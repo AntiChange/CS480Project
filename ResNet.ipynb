{
 "cells": [
  {
   "cell_type": "code",
   "execution_count": 1,
   "id": "ae89aa3f",
   "metadata": {
    "_cell_guid": "b1076dfc-b9ad-4769-8c92-a6c4dae69d19",
    "_uuid": "8f2839f25d086af736a60e9eeb907d3b93b6e0e5",
    "execution": {
     "iopub.execute_input": "2024-08-12T14:19:43.602500Z",
     "iopub.status.busy": "2024-08-12T14:19:43.602046Z",
     "iopub.status.idle": "2024-08-12T14:19:44.515398Z",
     "shell.execute_reply": "2024-08-12T14:19:44.514178Z"
    },
    "papermill": {
     "duration": 0.921135,
     "end_time": "2024-08-12T14:19:44.517994",
     "exception": false,
     "start_time": "2024-08-12T14:19:43.596859",
     "status": "completed"
    },
    "tags": []
   },
   "outputs": [],
   "source": [
    "# This Python 3 environment comes with many helpful analytics libraries installed\n",
    "# It is defined by the kaggle/python Docker image: https://github.com/kaggle/docker-python\n",
    "# For example, here's several helpful packages to load\n",
    "\n",
    "import numpy as np # linear algebra\n",
    "import pandas as pd # data processing, CSV file I/O (e.g. pd.read_csv)\n",
    "\n",
    "# Input data files are available in the read-only \"../input/\" directory\n",
    "# For example, running this (by clicking run or pressing Shift+Enter) will list all files under the input directory\n",
    "\n",
    "import os\n",
    "# for dirname, _, filenames in os.walk('/kaggle/input'):\n",
    "#     for filename in filenames:\n",
    "#         print(os.path.join(dirname, filename))\n",
    "\n",
    "# You can write up to 20GB to the current directory (/kaggle/working/) that gets preserved as output when you create a version using \"Save & Run All\" \n",
    "# You can also write temporary files to /kaggle/temp/, but they won't be saved outside of the current session"
   ]
  },
  {
   "cell_type": "code",
   "execution_count": 2,
   "id": "a9d69138",
   "metadata": {
    "execution": {
     "iopub.execute_input": "2024-08-12T14:19:44.525698Z",
     "iopub.status.busy": "2024-08-12T14:19:44.524904Z",
     "iopub.status.idle": "2024-08-12T14:19:46.334474Z",
     "shell.execute_reply": "2024-08-12T14:19:46.333365Z"
    },
    "papermill": {
     "duration": 1.816268,
     "end_time": "2024-08-12T14:19:46.337295",
     "exception": false,
     "start_time": "2024-08-12T14:19:44.521027",
     "status": "completed"
    },
    "tags": []
   },
   "outputs": [],
   "source": [
    "train_data = pd.read_csv(\"/kaggle/input/cs-480-2024-spring/data/train.csv\")\n",
    "test_data = pd.read_csv(\"/kaggle/input/cs-480-2024-spring/data/test.csv\")"
   ]
  },
  {
   "cell_type": "code",
   "execution_count": 3,
   "id": "3de22eab",
   "metadata": {
    "execution": {
     "iopub.execute_input": "2024-08-12T14:19:46.344976Z",
     "iopub.status.busy": "2024-08-12T14:19:46.344155Z",
     "iopub.status.idle": "2024-08-12T14:24:12.612582Z",
     "shell.execute_reply": "2024-08-12T14:24:12.611222Z"
    },
    "papermill": {
     "duration": 266.275453,
     "end_time": "2024-08-12T14:24:12.615554",
     "exception": false,
     "start_time": "2024-08-12T14:19:46.340101",
     "status": "completed"
    },
    "tags": []
   },
   "outputs": [
    {
     "name": "stderr",
     "output_type": "stream",
     "text": [
      "2024-08-12 14:19:48.481010: E external/local_xla/xla/stream_executor/cuda/cuda_dnn.cc:9261] Unable to register cuDNN factory: Attempting to register factory for plugin cuDNN when one has already been registered\n",
      "2024-08-12 14:19:48.481151: E external/local_xla/xla/stream_executor/cuda/cuda_fft.cc:607] Unable to register cuFFT factory: Attempting to register factory for plugin cuFFT when one has already been registered\n",
      "2024-08-12 14:19:48.645843: E external/local_xla/xla/stream_executor/cuda/cuda_blas.cc:1515] Unable to register cuBLAS factory: Attempting to register factory for plugin cuBLAS when one has already been registered\n"
     ]
    }
   ],
   "source": [
    "from tensorflow.keras.preprocessing.image import load_img, img_to_array\n",
    "\n",
    "X_train = train_data.iloc[:, 1:164]\n",
    "y_train = train_data.iloc[:, 164:]\n",
    "X_test = test_data.iloc[:, 1:164]\n",
    "\n",
    "def normalize_image(path):\n",
    "    image = load_img(path, target_size=(128, 128))\n",
    "    image = img_to_array(image)\n",
    "    image = image / 255.0\n",
    "    return image\n",
    "\n",
    "train_images = np.array([normalize_image(f'/kaggle/input/cs-480-2024-spring/data/train_images/{img_id}.jpeg') for img_id in train_data['id']])\n",
    "test_images = np.array([normalize_image(f'/kaggle/input/cs-480-2024-spring/data/test_images/{img_id}.jpeg') for img_id in test_data['id']])"
   ]
  },
  {
   "cell_type": "code",
   "execution_count": 4,
   "id": "830d3dda",
   "metadata": {
    "execution": {
     "iopub.execute_input": "2024-08-12T14:24:12.623945Z",
     "iopub.status.busy": "2024-08-12T14:24:12.623199Z",
     "iopub.status.idle": "2024-08-12T14:24:13.796640Z",
     "shell.execute_reply": "2024-08-12T14:24:13.795518Z"
    },
    "papermill": {
     "duration": 1.180139,
     "end_time": "2024-08-12T14:24:13.799118",
     "exception": false,
     "start_time": "2024-08-12T14:24:12.618979",
     "status": "completed"
    },
    "tags": []
   },
   "outputs": [],
   "source": [
    "from sklearn.preprocessing import StandardScaler\n",
    "\n",
    "scaler = StandardScaler()\n",
    "X_train = scaler.fit_transform(X_train)\n",
    "X_test = scaler.transform(X_test)\n",
    "y_train = scaler.fit_transform(y_train)"
   ]
  },
  {
   "cell_type": "code",
   "execution_count": 5,
   "id": "d16054de",
   "metadata": {
    "execution": {
     "iopub.execute_input": "2024-08-12T14:24:13.806965Z",
     "iopub.status.busy": "2024-08-12T14:24:13.806042Z",
     "iopub.status.idle": "2024-08-12T14:24:19.626808Z",
     "shell.execute_reply": "2024-08-12T14:24:19.625626Z"
    },
    "papermill": {
     "duration": 5.827631,
     "end_time": "2024-08-12T14:24:19.629699",
     "exception": false,
     "start_time": "2024-08-12T14:24:13.802068",
     "status": "completed"
    },
    "tags": []
   },
   "outputs": [
    {
     "name": "stdout",
     "output_type": "stream",
     "text": [
      "Downloading data from https://storage.googleapis.com/tensorflow/keras-applications/resnet/resnet50_weights_tf_dim_ordering_tf_kernels_notop.h5\n",
      "\u001b[1m94765736/94765736\u001b[0m \u001b[32m━━━━━━━━━━━━━━━━━━━━\u001b[0m\u001b[37m\u001b[0m \u001b[1m4s\u001b[0m 0us/step\n"
     ]
    }
   ],
   "source": [
    "from tensorflow.keras.models import Model\n",
    "from tensorflow.keras.layers import Input, Dense, Conv2D, MaxPooling2D, Flatten, Concatenate, GlobalAveragePooling2D, Dropout\n",
    "from tensorflow.keras.applications import ResNet50\n",
    "\n",
    "base_model = ResNet50(weights='imagenet', include_top=False, input_shape=(128, 128, 3))\n",
    "base_model.trainable = False\n",
    "\n",
    "x = base_model.output\n",
    "x = GlobalAveragePooling2D()(x)\n",
    "x = Dropout(0.5)(x)\n",
    "x = Dense(256, activation='relu')(x)\n",
    "x = Dropout(0.5)(x)\n",
    "x = Dense(128, activation='relu')(x)\n",
    "\n",
    "labels = Input(shape=(163,))\n",
    "y = Dense(64, activation='relu')(labels)\n",
    "y = Dense(128, activation='relu')(y)\n",
    "\n",
    "combined = Concatenate()([x, y])\n",
    "z = Dense(128, activation='relu')(combined)\n",
    "z = Dense(y_train.shape[1], activation='linear')(z)\n",
    "\n",
    "model = Model(inputs=[base_model.input, labels], outputs=z)\n",
    "model.compile(optimizer='adam', loss='mse')"
   ]
  },
  {
   "cell_type": "code",
   "execution_count": 6,
   "id": "27b02288",
   "metadata": {
    "execution": {
     "iopub.execute_input": "2024-08-12T14:24:19.646628Z",
     "iopub.status.busy": "2024-08-12T14:24:19.646160Z",
     "iopub.status.idle": "2024-08-12T17:28:55.568638Z",
     "shell.execute_reply": "2024-08-12T17:28:55.566646Z"
    },
    "papermill": {
     "duration": 11075.933981,
     "end_time": "2024-08-12T17:28:55.571336",
     "exception": false,
     "start_time": "2024-08-12T14:24:19.637355",
     "status": "completed"
    },
    "tags": []
   },
   "outputs": [
    {
     "name": "stdout",
     "output_type": "stream",
     "text": [
      "Epoch 1/10\n",
      "\u001b[1m1085/1085\u001b[0m \u001b[32m━━━━━━━━━━━━━━━━━━━━\u001b[0m\u001b[37m\u001b[0m \u001b[1m1155s\u001b[0m 1s/step - loss: 0.8897 - val_loss: 0.8488\n",
      "Epoch 2/10\n",
      "\u001b[1m1085/1085\u001b[0m \u001b[32m━━━━━━━━━━━━━━━━━━━━\u001b[0m\u001b[37m\u001b[0m \u001b[1m1105s\u001b[0m 1s/step - loss: 0.8167 - val_loss: 0.8467\n",
      "Epoch 3/10\n",
      "\u001b[1m1085/1085\u001b[0m \u001b[32m━━━━━━━━━━━━━━━━━━━━\u001b[0m\u001b[37m\u001b[0m \u001b[1m1098s\u001b[0m 1s/step - loss: 0.8213 - val_loss: 0.8391\n",
      "Epoch 4/10\n",
      "\u001b[1m1085/1085\u001b[0m \u001b[32m━━━━━━━━━━━━━━━━━━━━\u001b[0m\u001b[37m\u001b[0m \u001b[1m1101s\u001b[0m 1s/step - loss: 0.8088 - val_loss: 0.8357\n",
      "Epoch 5/10\n",
      "\u001b[1m1085/1085\u001b[0m \u001b[32m━━━━━━━━━━━━━━━━━━━━\u001b[0m\u001b[37m\u001b[0m \u001b[1m1097s\u001b[0m 1s/step - loss: 0.7959 - val_loss: 0.8374\n",
      "Epoch 6/10\n",
      "\u001b[1m1085/1085\u001b[0m \u001b[32m━━━━━━━━━━━━━━━━━━━━\u001b[0m\u001b[37m\u001b[0m \u001b[1m1092s\u001b[0m 1s/step - loss: 0.8001 - val_loss: 0.8351\n",
      "Epoch 7/10\n",
      "\u001b[1m1085/1085\u001b[0m \u001b[32m━━━━━━━━━━━━━━━━━━━━\u001b[0m\u001b[37m\u001b[0m \u001b[1m1094s\u001b[0m 1s/step - loss: 0.7920 - val_loss: 0.8306\n",
      "Epoch 8/10\n",
      "\u001b[1m1085/1085\u001b[0m \u001b[32m━━━━━━━━━━━━━━━━━━━━\u001b[0m\u001b[37m\u001b[0m \u001b[1m1109s\u001b[0m 1s/step - loss: 0.7848 - val_loss: 0.8338\n",
      "Epoch 9/10\n",
      "\u001b[1m1085/1085\u001b[0m \u001b[32m━━━━━━━━━━━━━━━━━━━━\u001b[0m\u001b[37m\u001b[0m \u001b[1m1102s\u001b[0m 1s/step - loss: 0.7921 - val_loss: 0.8310\n",
      "Epoch 10/10\n",
      "\u001b[1m1085/1085\u001b[0m \u001b[32m━━━━━━━━━━━━━━━━━━━━\u001b[0m\u001b[37m\u001b[0m \u001b[1m1096s\u001b[0m 1s/step - loss: 0.7781 - val_loss: 0.8330\n"
     ]
    },
    {
     "data": {
      "image/png": "[encoded data removed]",
      "text/plain": [
       "<Figure size 640x480 with 1 Axes>"
      ]
     },
     "metadata": {},
     "output_type": "display_data"
    }
   ],
   "source": [
    "import matplotlib.pyplot as plt\n",
    "\n",
    "history = model.fit(\n",
    "    [train_images, X_train], y_train,\n",
    "    validation_split=0.2,\n",
    "    epochs=10,\n",
    "    batch_size=32\n",
    ")\n",
    "\n",
    "plt.plot(history.history['loss'], label='Train Loss')\n",
    "plt.plot(history.history['val_loss'], label='Validation Loss')\n",
    "plt.xlabel('Epochs')\n",
    "plt.ylabel('Loss')\n",
    "plt.legend()\n",
    "plt.show()"
   ]
  },
  {
   "cell_type": "code",
   "execution_count": 7,
   "id": "a1085067",
   "metadata": {
    "execution": {
     "iopub.execute_input": "2024-08-12T17:28:57.069269Z",
     "iopub.status.busy": "2024-08-12T17:28:57.067949Z",
     "iopub.status.idle": "2024-08-12T17:31:44.040076Z",
     "shell.execute_reply": "2024-08-12T17:31:44.038615Z"
    },
    "papermill": {
     "duration": 167.711398,
     "end_time": "2024-08-12T17:31:44.043620",
     "exception": false,
     "start_time": "2024-08-12T17:28:56.332222",
     "status": "completed"
    },
    "tags": []
   },
   "outputs": [
    {
     "name": "stdout",
     "output_type": "stream",
     "text": [
      "\u001b[1m200/200\u001b[0m \u001b[32m━━━━━━━━━━━━━━━━━━━━\u001b[0m\u001b[37m\u001b[0m \u001b[1m164s\u001b[0m 810ms/step\n"
     ]
    }
   ],
   "source": [
    "predictions = model.predict([test_images, X_test])\n",
    "\n",
    "rescaled = scaler.inverse_transform(predictions)\n",
    "\n",
    "submission = pd.DataFrame(rescaled, columns=['X4', 'X11', 'X18', 'X26', 'X50', 'X3112'])\n",
    "submission.insert(0, 'id', test_data['id'])\n",
    "submission.to_csv('submission.csv', index=False)"
   ]
  }
 ],
 "metadata": {
  "kaggle": {
   "accelerator": "none",
   "dataSources": [
    {
     "databundleVersionId": 8915386,
     "sourceId": 81655,
     "sourceType": "competition"
    }
   ],
   "dockerImageVersionId": 30746,
   "isGpuEnabled": false,
   "isInternetEnabled": true,
   "language": "python",
   "sourceType": "notebook"
  },
  "kernelspec": {
   "display_name": "Python 3",
   "language": "python",
   "name": "python3"
  },
  "language_info": {
   "codemirror_mode": {
    "name": "ipython",
    "version": 3
   },
   "file_extension": ".py",
   "mimetype": "text/x-python",
   "name": "python",
   "nbconvert_exporter": "python",
   "pygments_lexer": "ipython3",
   "version": "3.10.13"
  },
  "papermill": {
   "default_parameters": {},
   "duration": 11527.859002,
   "end_time": "2024-08-12T17:31:48.672815",
   "environment_variables": {},
   "exception": null,
   "input_path": "__notebook__.ipynb",
   "output_path": "__notebook__.ipynb",
   "parameters": {},
   "start_time": "2024-08-12T14:19:40.813813",
   "version": "2.5.0"
  }
 },
 "nbformat": 4,
 "nbformat_minor": 5
}
